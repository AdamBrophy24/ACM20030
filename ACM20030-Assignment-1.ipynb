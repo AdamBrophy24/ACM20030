{
 "cells": [
  {
   "cell_type": "code",
   "execution_count": 17,
   "id": "4532157b-5218-453b-a3a4-a671b9280544",
   "metadata": {},
   "outputs": [],
   "source": [
    "##Question 0\n",
    "import numpy as np\n",
    "import matplotlib.pyplot as plt"
   ]
  }
 ],
 "metadata": {
  "kernelspec": {
   "display_name": "Python 3 (ipykernel)",
   "language": "python",
   "name": "python3"
  },
  "language_info": {
   "codemirror_mode": {
    "name": "ipython",
    "version": 3
   },
   "file_extension": ".py",
   "mimetype": "text/x-python",
   "name": "python",
   "nbconvert_exporter": "python",
   "pygments_lexer": "ipython3",
   "version": "3.12.4"
  }
 },
 "nbformat": 4,
 "nbformat_minor": 5
}
